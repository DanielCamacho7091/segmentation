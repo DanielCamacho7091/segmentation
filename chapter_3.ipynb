{
 "cells": [
  {
   "cell_type": "markdown",
   "metadata": {},
   "source": [
    "# Chapter 3: Unsupervised Learning and Customer Segmentation\n",
    "\n",
    "From: https://www.amazon.com/Data-Science-Marketing-Analytics-practical/dp/1800560478 \n",
    "\n",
    "Key concepts: \n",
    "-   Entities (customers, offers, etc)\n",
    "-   Properties (age, income, etc)\n",
    "\n",
    "Overall process:\n",
    "1.  Chossing the relevant attributes for the entities\n",
    "2.  Clustering/goruping the entities\n",
    "3.  Understanding and describing the segments"
   ]
  },
  {
   "cell_type": "markdown",
   "metadata": {},
   "source": [
    "#### Exercise 3.01: Mall customer segmentation - understanding the data\n",
    "\n",
    "Get data from: https://packt.link/Dgl1z"
   ]
  },
  {
   "cell_type": "markdown",
   "metadata": {},
   "source": []
  },
  {
   "cell_type": "markdown",
   "metadata": {},
   "source": []
  },
  {
   "cell_type": "code",
   "execution_count": null,
   "metadata": {},
   "outputs": [],
   "source": []
  },
  {
   "cell_type": "code",
   "execution_count": null,
   "metadata": {},
   "outputs": [],
   "source": []
  }
 ],
 "metadata": {
  "kernelspec": {
   "display_name": ".venv",
   "language": "python",
   "name": "python3"
  },
  "language_info": {
   "name": "python",
   "version": "3.11.6"
  }
 },
 "nbformat": 4,
 "nbformat_minor": 2
}
